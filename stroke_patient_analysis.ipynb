{
  "nbformat": 4,
  "nbformat_minor": 0,
  "metadata": {
    "colab": {
      "name": "stroke_patient_analysis.ipynb",
      "provenance": [],
      "collapsed_sections": []
    },
    "kernelspec": {
      "name": "python3",
      "display_name": "Python 3"
    },
    "language_info": {
      "name": "python"
    }
  },
  "cells": [
    {
      "cell_type": "markdown",
      "metadata": {
        "id": "Sw1FU3Ku75Tu"
      },
      "source": [
        "# **Stroke Patient End-to-End Analysis**\n",
        "\n",
        "The objective of this statistical analysis is to determine health factors that may impact the risk for stroke in order to better understand patient health and optimize healthcare.\n",
        "\n",
        "Hypothesis: There is a signficant difference in average glucose levels and body mass index (BMI) between stroke patients and non-stroke patients.\n",
        "\n",
        "Methods: descriptive statistics, two-tailed t-test, histogram, boxplot"
      ]
    },
    {
      "cell_type": "markdown",
      "metadata": {
        "id": "0A0EGAtPc1eV"
      },
      "source": [
        "# The Data\n",
        "Data Source: https://www.kaggle.com/fedesoriano/stroke-prediction-dataset\n",
        "\n",
        "An initial examination of the raw data:\n"
      ]
    },
    {
      "cell_type": "code",
      "metadata": {
        "id": "Fw0x5BwmemAi"
      },
      "source": [
        "# Import libraries\n",
        "import pandas as pd\n",
        "import numpy as np\n",
        "from scipy import stats\n",
        "import seaborn as sns\n",
        "import matplotlib.pyplot as plt\n",
        "import math"
      ],
      "execution_count": null,
      "outputs": []
    },
    {
      "cell_type": "code",
      "metadata": {
        "colab": {
          "base_uri": "https://localhost:8080/"
        },
        "id": "I5V9FmLBbNqi",
        "outputId": "5e50da0d-e220-44ef-fdca-7df7852eefb7"
      },
      "source": [
        "# Mount GDrive\n",
        "from google.colab import drive\n",
        "drive.mount('/content/gdrive')"
      ],
      "execution_count": null,
      "outputs": [
        {
          "output_type": "stream",
          "text": [
            "Mounted at /content/gdrive\n"
          ],
          "name": "stdout"
        }
      ]
    },
    {
      "cell_type": "code",
      "metadata": {
        "id": "ZfMtDlv23_Jc"
      },
      "source": [
        "# Read in the GDrive-mounted CSV file\n",
        "df = pd.read_csv('/content/gdrive/My Drive/Stroke Patients Capstone/healthcare-dataset-stroke-data.csv')"
      ],
      "execution_count": null,
      "outputs": []
    },
    {
      "cell_type": "code",
      "metadata": {
        "colab": {
          "base_uri": "https://localhost:8080/"
        },
        "id": "DL9UYMvFgz3L",
        "outputId": "3b5e9017-3a07-4aac-829a-c90dae565678"
      },
      "source": [
        "df.shape"
      ],
      "execution_count": null,
      "outputs": [
        {
          "output_type": "execute_result",
          "data": {
            "text/plain": [
              "(5110, 12)"
            ]
          },
          "metadata": {
            "tags": []
          },
          "execution_count": 4
        }
      ]
    },
    {
      "cell_type": "code",
      "metadata": {
        "colab": {
          "base_uri": "https://localhost:8080/"
        },
        "id": "drxy2bC5g_dW",
        "outputId": "a3f0f99a-6351-49e3-815d-17998dc09e5c"
      },
      "source": [
        "# Examine rows, features, and data types\n",
        "df.info()"
      ],
      "execution_count": null,
      "outputs": [
        {
          "output_type": "stream",
          "text": [
            "<class 'pandas.core.frame.DataFrame'>\n",
            "RangeIndex: 5110 entries, 0 to 5109\n",
            "Data columns (total 12 columns):\n",
            " #   Column             Non-Null Count  Dtype  \n",
            "---  ------             --------------  -----  \n",
            " 0   id                 5110 non-null   int64  \n",
            " 1   gender             5110 non-null   object \n",
            " 2   age                5110 non-null   float64\n",
            " 3   hypertension       5110 non-null   int64  \n",
            " 4   heart_disease      5110 non-null   int64  \n",
            " 5   ever_married       5110 non-null   object \n",
            " 6   work_type          5110 non-null   object \n",
            " 7   Residence_type     5110 non-null   object \n",
            " 8   avg_glucose_level  5110 non-null   float64\n",
            " 9   bmi                4909 non-null   float64\n",
            " 10  smoking_status     5110 non-null   object \n",
            " 11  stroke             5110 non-null   int64  \n",
            "dtypes: float64(3), int64(4), object(5)\n",
            "memory usage: 479.2+ KB\n"
          ],
          "name": "stdout"
        }
      ]
    },
    {
      "cell_type": "code",
      "metadata": {
        "colab": {
          "base_uri": "https://localhost:8080/",
          "height": 258
        },
        "id": "dcQ3gdiY4vY-",
        "outputId": "3c1346d8-e5d0-4fed-d701-c6820e90fabd"
      },
      "source": [
        "# Preview data\n",
        "df.head()"
      ],
      "execution_count": null,
      "outputs": [
        {
          "output_type": "execute_result",
          "data": {
            "text/html": [
              "<div>\n",
              "<style scoped>\n",
              "    .dataframe tbody tr th:only-of-type {\n",
              "        vertical-align: middle;\n",
              "    }\n",
              "\n",
              "    .dataframe tbody tr th {\n",
              "        vertical-align: top;\n",
              "    }\n",
              "\n",
              "    .dataframe thead th {\n",
              "        text-align: right;\n",
              "    }\n",
              "</style>\n",
              "<table border=\"1\" class=\"dataframe\">\n",
              "  <thead>\n",
              "    <tr style=\"text-align: right;\">\n",
              "      <th></th>\n",
              "      <th>id</th>\n",
              "      <th>gender</th>\n",
              "      <th>age</th>\n",
              "      <th>hypertension</th>\n",
              "      <th>heart_disease</th>\n",
              "      <th>ever_married</th>\n",
              "      <th>work_type</th>\n",
              "      <th>Residence_type</th>\n",
              "      <th>avg_glucose_level</th>\n",
              "      <th>bmi</th>\n",
              "      <th>smoking_status</th>\n",
              "      <th>stroke</th>\n",
              "    </tr>\n",
              "  </thead>\n",
              "  <tbody>\n",
              "    <tr>\n",
              "      <th>0</th>\n",
              "      <td>9046</td>\n",
              "      <td>Male</td>\n",
              "      <td>67.0</td>\n",
              "      <td>0</td>\n",
              "      <td>1</td>\n",
              "      <td>Yes</td>\n",
              "      <td>Private</td>\n",
              "      <td>Urban</td>\n",
              "      <td>228.69</td>\n",
              "      <td>36.6</td>\n",
              "      <td>formerly smoked</td>\n",
              "      <td>1</td>\n",
              "    </tr>\n",
              "    <tr>\n",
              "      <th>1</th>\n",
              "      <td>51676</td>\n",
              "      <td>Female</td>\n",
              "      <td>61.0</td>\n",
              "      <td>0</td>\n",
              "      <td>0</td>\n",
              "      <td>Yes</td>\n",
              "      <td>Self-employed</td>\n",
              "      <td>Rural</td>\n",
              "      <td>202.21</td>\n",
              "      <td>NaN</td>\n",
              "      <td>never smoked</td>\n",
              "      <td>1</td>\n",
              "    </tr>\n",
              "    <tr>\n",
              "      <th>2</th>\n",
              "      <td>31112</td>\n",
              "      <td>Male</td>\n",
              "      <td>80.0</td>\n",
              "      <td>0</td>\n",
              "      <td>1</td>\n",
              "      <td>Yes</td>\n",
              "      <td>Private</td>\n",
              "      <td>Rural</td>\n",
              "      <td>105.92</td>\n",
              "      <td>32.5</td>\n",
              "      <td>never smoked</td>\n",
              "      <td>1</td>\n",
              "    </tr>\n",
              "    <tr>\n",
              "      <th>3</th>\n",
              "      <td>60182</td>\n",
              "      <td>Female</td>\n",
              "      <td>49.0</td>\n",
              "      <td>0</td>\n",
              "      <td>0</td>\n",
              "      <td>Yes</td>\n",
              "      <td>Private</td>\n",
              "      <td>Urban</td>\n",
              "      <td>171.23</td>\n",
              "      <td>34.4</td>\n",
              "      <td>smokes</td>\n",
              "      <td>1</td>\n",
              "    </tr>\n",
              "    <tr>\n",
              "      <th>4</th>\n",
              "      <td>1665</td>\n",
              "      <td>Female</td>\n",
              "      <td>79.0</td>\n",
              "      <td>1</td>\n",
              "      <td>0</td>\n",
              "      <td>Yes</td>\n",
              "      <td>Self-employed</td>\n",
              "      <td>Rural</td>\n",
              "      <td>174.12</td>\n",
              "      <td>24.0</td>\n",
              "      <td>never smoked</td>\n",
              "      <td>1</td>\n",
              "    </tr>\n",
              "  </tbody>\n",
              "</table>\n",
              "</div>"
            ],
            "text/plain": [
              "      id  gender   age  ...   bmi   smoking_status stroke\n",
              "0   9046    Male  67.0  ...  36.6  formerly smoked      1\n",
              "1  51676  Female  61.0  ...   NaN     never smoked      1\n",
              "2  31112    Male  80.0  ...  32.5     never smoked      1\n",
              "3  60182  Female  49.0  ...  34.4           smokes      1\n",
              "4   1665  Female  79.0  ...  24.0     never smoked      1\n",
              "\n",
              "[5 rows x 12 columns]"
            ]
          },
          "metadata": {
            "tags": []
          },
          "execution_count": 6
        }
      ]
    },
    {
      "cell_type": "markdown",
      "metadata": {
        "id": "dtlCxTw63NGh"
      },
      "source": [
        "# Exploratory Data Analysis"
      ]
    },
    {
      "cell_type": "markdown",
      "metadata": {
        "id": "BR8TidKsW17_"
      },
      "source": [
        "Handle the nulls in the BMI column as this is one of the variables being tested in this analysis:\n",
        "\n"
      ]
    },
    {
      "cell_type": "code",
      "metadata": {
        "id": "qF6cJdG2OXul",
        "colab": {
          "base_uri": "https://localhost:8080/"
        },
        "outputId": "b08ac7fb-b472-4fed-b2ef-b45249bc4135"
      },
      "source": [
        "# Print original size of DataFrame\n",
        "print(df.size)\n",
        "\n",
        "# Exclude records with missing values\n",
        "df_filtered = df.dropna()\n",
        "\n",
        "# Print size of modified DataFrame\n",
        "print(df_filtered.size)"
      ],
      "execution_count": null,
      "outputs": [
        {
          "output_type": "stream",
          "text": [
            "61320\n",
            "58908\n"
          ],
          "name": "stdout"
        }
      ]
    },
    {
      "cell_type": "code",
      "metadata": {
        "colab": {
          "base_uri": "https://localhost:8080/"
        },
        "id": "3Cs4Pb51oF--",
        "outputId": "a8c06582-ee0a-43cd-e45f-5e1a985ff367"
      },
      "source": [
        "# Examine modified DataFrame\n",
        "df_filtered.info()"
      ],
      "execution_count": null,
      "outputs": [
        {
          "output_type": "stream",
          "text": [
            "<class 'pandas.core.frame.DataFrame'>\n",
            "Int64Index: 4909 entries, 0 to 5109\n",
            "Data columns (total 12 columns):\n",
            " #   Column             Non-Null Count  Dtype  \n",
            "---  ------             --------------  -----  \n",
            " 0   id                 4909 non-null   int64  \n",
            " 1   gender             4909 non-null   object \n",
            " 2   age                4909 non-null   float64\n",
            " 3   hypertension       4909 non-null   int64  \n",
            " 4   heart_disease      4909 non-null   int64  \n",
            " 5   ever_married       4909 non-null   object \n",
            " 6   work_type          4909 non-null   object \n",
            " 7   Residence_type     4909 non-null   object \n",
            " 8   avg_glucose_level  4909 non-null   float64\n",
            " 9   bmi                4909 non-null   float64\n",
            " 10  smoking_status     4909 non-null   object \n",
            " 11  stroke             4909 non-null   int64  \n",
            "dtypes: float64(3), int64(4), object(5)\n",
            "memory usage: 498.6+ KB\n"
          ],
          "name": "stdout"
        }
      ]
    },
    {
      "cell_type": "code",
      "metadata": {
        "colab": {
          "base_uri": "https://localhost:8080/"
        },
        "id": "u_sBzZR5E7nP",
        "outputId": "f29bfb29-f8db-4f3a-ac97-b3d4099d494f"
      },
      "source": [
        "# How many stroke cases are there?\n",
        "df_filtered['stroke'].value_counts()"
      ],
      "execution_count": null,
      "outputs": [
        {
          "output_type": "execute_result",
          "data": {
            "text/plain": [
              "0    4700\n",
              "1     209\n",
              "Name: stroke, dtype: int64"
            ]
          },
          "metadata": {
            "tags": []
          },
          "execution_count": 9
        }
      ]
    },
    {
      "cell_type": "markdown",
      "metadata": {
        "id": "1AqAFTxnYha7"
      },
      "source": [
        "Create and examine a DataFrame containing data only for stroke patients:"
      ]
    },
    {
      "cell_type": "code",
      "metadata": {
        "colab": {
          "base_uri": "https://localhost:8080/"
        },
        "id": "i13s1mxpqANN",
        "outputId": "c71fea8e-3090-4f4f-e7b1-3f29b2f6e3d9"
      },
      "source": [
        "stroke_patients = df_filtered.iloc[(df_filtered['stroke'] == 1).values]\n",
        "stroke_patients.info()"
      ],
      "execution_count": null,
      "outputs": [
        {
          "output_type": "stream",
          "text": [
            "<class 'pandas.core.frame.DataFrame'>\n",
            "Int64Index: 209 entries, 0 to 248\n",
            "Data columns (total 12 columns):\n",
            " #   Column             Non-Null Count  Dtype  \n",
            "---  ------             --------------  -----  \n",
            " 0   id                 209 non-null    int64  \n",
            " 1   gender             209 non-null    object \n",
            " 2   age                209 non-null    float64\n",
            " 3   hypertension       209 non-null    int64  \n",
            " 4   heart_disease      209 non-null    int64  \n",
            " 5   ever_married       209 non-null    object \n",
            " 6   work_type          209 non-null    object \n",
            " 7   Residence_type     209 non-null    object \n",
            " 8   avg_glucose_level  209 non-null    float64\n",
            " 9   bmi                209 non-null    float64\n",
            " 10  smoking_status     209 non-null    object \n",
            " 11  stroke             209 non-null    int64  \n",
            "dtypes: float64(3), int64(4), object(5)\n",
            "memory usage: 21.2+ KB\n"
          ],
          "name": "stdout"
        }
      ]
    },
    {
      "cell_type": "markdown",
      "metadata": {
        "id": "JLtY4G2gZBiH"
      },
      "source": [
        "Create and examine a DataFrame for non-stroke patient data:"
      ]
    },
    {
      "cell_type": "code",
      "metadata": {
        "colab": {
          "base_uri": "https://localhost:8080/"
        },
        "id": "94A9Jc8vky9s",
        "outputId": "f86aca87-3262-4c24-ad8c-7c775b84916e"
      },
      "source": [
        "non_stroke_patients = df_filtered.iloc[(df_filtered['stroke'] == 0).values]\n",
        "non_stroke_patients.info()"
      ],
      "execution_count": null,
      "outputs": [
        {
          "output_type": "stream",
          "text": [
            "<class 'pandas.core.frame.DataFrame'>\n",
            "Int64Index: 4700 entries, 249 to 5109\n",
            "Data columns (total 12 columns):\n",
            " #   Column             Non-Null Count  Dtype  \n",
            "---  ------             --------------  -----  \n",
            " 0   id                 4700 non-null   int64  \n",
            " 1   gender             4700 non-null   object \n",
            " 2   age                4700 non-null   float64\n",
            " 3   hypertension       4700 non-null   int64  \n",
            " 4   heart_disease      4700 non-null   int64  \n",
            " 5   ever_married       4700 non-null   object \n",
            " 6   work_type          4700 non-null   object \n",
            " 7   Residence_type     4700 non-null   object \n",
            " 8   avg_glucose_level  4700 non-null   float64\n",
            " 9   bmi                4700 non-null   float64\n",
            " 10  smoking_status     4700 non-null   object \n",
            " 11  stroke             4700 non-null   int64  \n",
            "dtypes: float64(3), int64(4), object(5)\n",
            "memory usage: 477.3+ KB\n"
          ],
          "name": "stdout"
        }
      ]
    },
    {
      "cell_type": "markdown",
      "metadata": {
        "id": "9sNn1QfCQPhM"
      },
      "source": [
        "Set up a function calculating effect size to be used with t-tests later:"
      ]
    },
    {
      "cell_type": "code",
      "metadata": {
        "id": "vdAfKzNCzcfO"
      },
      "source": [
        "# Define function to measure effect size with a 95% confidence interval\n",
        "def get_95_ci(array_1, array_2):\n",
        "    sample_1_n = array_1.shape[0]\n",
        "    sample_2_n = array_2.shape[0]\n",
        "    sample_1_mean = array_1.mean()\n",
        "    sample_2_mean = array_2.mean()\n",
        "    sample_1_var = array_1.var()\n",
        "    sample_2_var = array_2.var()\n",
        "    mean_difference = sample_2_mean - sample_1_mean\n",
        "    std_err_difference = math.sqrt((sample_1_var/sample_1_n)+(sample_2_var/sample_2_n))\n",
        "    margin_of_error = 1.96 * std_err_difference\n",
        "    ci_lower = mean_difference - margin_of_error\n",
        "    ci_upper = mean_difference + margin_of_error\n",
        "    return(\"The difference in means at the 95% confidence interval (two-tail) is between \"+str(ci_lower)+\" and \"+str(ci_upper)+\".\")"
      ],
      "execution_count": null,
      "outputs": []
    },
    {
      "cell_type": "markdown",
      "metadata": {
        "id": "4qUeaNtQXriF"
      },
      "source": [
        "# Average Glucose Level Analysis"
      ]
    },
    {
      "cell_type": "code",
      "metadata": {
        "colab": {
          "base_uri": "https://localhost:8080/",
          "height": 407
        },
        "id": "KwSXjaXT4RaF",
        "outputId": "b142bf14-76e1-4b8b-9905-9a658a28d708"
      },
      "source": [
        "# Check distribution of average glucose level\n",
        "plt.figure(figsize = (11,5))\n",
        "ax = sns.distplot(df_filtered['avg_glucose_level'])\n",
        "plt.xlabel('')\n",
        "plt.ylabel('')\n",
        "plt.title('Average Glucose Level')"
      ],
      "execution_count": null,
      "outputs": [
        {
          "output_type": "stream",
          "text": [
            "/usr/local/lib/python3.7/dist-packages/seaborn/distributions.py:2557: FutureWarning: `distplot` is a deprecated function and will be removed in a future version. Please adapt your code to use either `displot` (a figure-level function with similar flexibility) or `histplot` (an axes-level function for histograms).\n",
            "  warnings.warn(msg, FutureWarning)\n"
          ],
          "name": "stderr"
        },
        {
          "output_type": "execute_result",
          "data": {
            "text/plain": [
              "Text(0.5, 1.0, 'Average Glucose Level')"
            ]
          },
          "metadata": {
            "tags": []
          },
          "execution_count": 13
        },
        {
          "output_type": "display_data",
          "data": {
            "image/png": "[encoded data removed]",
            "text/plain": [
              "<Figure size 792x360 with 1 Axes>"
            ]
          },
          "metadata": {
            "tags": [],
            "needs_background": "light"
          }
        }
      ]
    },
    {
      "cell_type": "markdown",
      "metadata": {
        "id": "eEexMobWCYAC"
      },
      "source": [
        "The histogram has an approximately normal distribution with a right skew."
      ]
    },
    {
      "cell_type": "code",
      "metadata": {
        "colab": {
          "base_uri": "https://localhost:8080/",
          "height": 297
        },
        "id": "rexIM6kIpDft",
        "outputId": "a4bdff1b-0297-4a61-850a-12510c0e2f23"
      },
      "source": [
        "# Descriptive statistics for glucose across all patients\n",
        "df_filtered[['avg_glucose_level']].describe()"
      ],
      "execution_count": null,
      "outputs": [
        {
          "output_type": "execute_result",
          "data": {
            "text/html": [
              "<div>\n",
              "<style scoped>\n",
              "    .dataframe tbody tr th:only-of-type {\n",
              "        vertical-align: middle;\n",
              "    }\n",
              "\n",
              "    .dataframe tbody tr th {\n",
              "        vertical-align: top;\n",
              "    }\n",
              "\n",
              "    .dataframe thead th {\n",
              "        text-align: right;\n",
              "    }\n",
              "</style>\n",
              "<table border=\"1\" class=\"dataframe\">\n",
              "  <thead>\n",
              "    <tr style=\"text-align: right;\">\n",
              "      <th></th>\n",
              "      <th>avg_glucose_level</th>\n",
              "    </tr>\n",
              "  </thead>\n",
              "  <tbody>\n",
              "    <tr>\n",
              "      <th>count</th>\n",
              "      <td>4909.000000</td>\n",
              "    </tr>\n",
              "    <tr>\n",
              "      <th>mean</th>\n",
              "      <td>105.305150</td>\n",
              "    </tr>\n",
              "    <tr>\n",
              "      <th>std</th>\n",
              "      <td>44.424341</td>\n",
              "    </tr>\n",
              "    <tr>\n",
              "      <th>min</th>\n",
              "      <td>55.120000</td>\n",
              "    </tr>\n",
              "    <tr>\n",
              "      <th>25%</th>\n",
              "      <td>77.070000</td>\n",
              "    </tr>\n",
              "    <tr>\n",
              "      <th>50%</th>\n",
              "      <td>91.680000</td>\n",
              "    </tr>\n",
              "    <tr>\n",
              "      <th>75%</th>\n",
              "      <td>113.570000</td>\n",
              "    </tr>\n",
              "    <tr>\n",
              "      <th>max</th>\n",
              "      <td>271.740000</td>\n",
              "    </tr>\n",
              "  </tbody>\n",
              "</table>\n",
              "</div>"
            ],
            "text/plain": [
              "       avg_glucose_level\n",
              "count        4909.000000\n",
              "mean          105.305150\n",
              "std            44.424341\n",
              "min            55.120000\n",
              "25%            77.070000\n",
              "50%            91.680000\n",
              "75%           113.570000\n",
              "max           271.740000"
            ]
          },
          "metadata": {
            "tags": []
          },
          "execution_count": 14
        }
      ]
    },
    {
      "cell_type": "code",
      "metadata": {
        "colab": {
          "base_uri": "https://localhost:8080/",
          "height": 297
        },
        "id": "k6FfZtjvDwuo",
        "outputId": "713d5eb9-548d-4176-cf19-071adf616fba"
      },
      "source": [
        "# Descriptive statistics for glucose in stroke patients\n",
        "stroke_patients[['avg_glucose_level']].describe()"
      ],
      "execution_count": null,
      "outputs": [
        {
          "output_type": "execute_result",
          "data": {
            "text/html": [
              "<div>\n",
              "<style scoped>\n",
              "    .dataframe tbody tr th:only-of-type {\n",
              "        vertical-align: middle;\n",
              "    }\n",
              "\n",
              "    .dataframe tbody tr th {\n",
              "        vertical-align: top;\n",
              "    }\n",
              "\n",
              "    .dataframe thead th {\n",
              "        text-align: right;\n",
              "    }\n",
              "</style>\n",
              "<table border=\"1\" class=\"dataframe\">\n",
              "  <thead>\n",
              "    <tr style=\"text-align: right;\">\n",
              "      <th></th>\n",
              "      <th>avg_glucose_level</th>\n",
              "    </tr>\n",
              "  </thead>\n",
              "  <tbody>\n",
              "    <tr>\n",
              "      <th>count</th>\n",
              "      <td>209.000000</td>\n",
              "    </tr>\n",
              "    <tr>\n",
              "      <th>mean</th>\n",
              "      <td>134.571388</td>\n",
              "    </tr>\n",
              "    <tr>\n",
              "      <th>std</th>\n",
              "      <td>62.462047</td>\n",
              "    </tr>\n",
              "    <tr>\n",
              "      <th>min</th>\n",
              "      <td>56.110000</td>\n",
              "    </tr>\n",
              "    <tr>\n",
              "      <th>25%</th>\n",
              "      <td>80.430000</td>\n",
              "    </tr>\n",
              "    <tr>\n",
              "      <th>50%</th>\n",
              "      <td>106.580000</td>\n",
              "    </tr>\n",
              "    <tr>\n",
              "      <th>75%</th>\n",
              "      <td>196.920000</td>\n",
              "    </tr>\n",
              "    <tr>\n",
              "      <th>max</th>\n",
              "      <td>271.740000</td>\n",
              "    </tr>\n",
              "  </tbody>\n",
              "</table>\n",
              "</div>"
            ],
            "text/plain": [
              "       avg_glucose_level\n",
              "count         209.000000\n",
              "mean          134.571388\n",
              "std            62.462047\n",
              "min            56.110000\n",
              "25%            80.430000\n",
              "50%           106.580000\n",
              "75%           196.920000\n",
              "max           271.740000"
            ]
          },
          "metadata": {
            "tags": []
          },
          "execution_count": 15
        }
      ]
    },
    {
      "cell_type": "code",
      "metadata": {
        "colab": {
          "base_uri": "https://localhost:8080/",
          "height": 297
        },
        "id": "lZVMhI_037fp",
        "outputId": "341860e2-e91d-4f76-9e36-9bdf68905010"
      },
      "source": [
        "# Descriptive statistics for glucose in non-stroke patients\n",
        "non_stroke_patients[['avg_glucose_level']].describe()"
      ],
      "execution_count": null,
      "outputs": [
        {
          "output_type": "execute_result",
          "data": {
            "text/html": [
              "<div>\n",
              "<style scoped>\n",
              "    .dataframe tbody tr th:only-of-type {\n",
              "        vertical-align: middle;\n",
              "    }\n",
              "\n",
              "    .dataframe tbody tr th {\n",
              "        vertical-align: top;\n",
              "    }\n",
              "\n",
              "    .dataframe thead th {\n",
              "        text-align: right;\n",
              "    }\n",
              "</style>\n",
              "<table border=\"1\" class=\"dataframe\">\n",
              "  <thead>\n",
              "    <tr style=\"text-align: right;\">\n",
              "      <th></th>\n",
              "      <th>avg_glucose_level</th>\n",
              "    </tr>\n",
              "  </thead>\n",
              "  <tbody>\n",
              "    <tr>\n",
              "      <th>count</th>\n",
              "      <td>4700.000000</td>\n",
              "    </tr>\n",
              "    <tr>\n",
              "      <th>mean</th>\n",
              "      <td>104.003736</td>\n",
              "    </tr>\n",
              "    <tr>\n",
              "      <th>std</th>\n",
              "      <td>42.997798</td>\n",
              "    </tr>\n",
              "    <tr>\n",
              "      <th>min</th>\n",
              "      <td>55.120000</td>\n",
              "    </tr>\n",
              "    <tr>\n",
              "      <th>25%</th>\n",
              "      <td>76.887500</td>\n",
              "    </tr>\n",
              "    <tr>\n",
              "      <th>50%</th>\n",
              "      <td>91.210000</td>\n",
              "    </tr>\n",
              "    <tr>\n",
              "      <th>75%</th>\n",
              "      <td>112.432500</td>\n",
              "    </tr>\n",
              "    <tr>\n",
              "      <th>max</th>\n",
              "      <td>267.760000</td>\n",
              "    </tr>\n",
              "  </tbody>\n",
              "</table>\n",
              "</div>"
            ],
            "text/plain": [
              "       avg_glucose_level\n",
              "count        4700.000000\n",
              "mean          104.003736\n",
              "std            42.997798\n",
              "min            55.120000\n",
              "25%            76.887500\n",
              "50%            91.210000\n",
              "75%           112.432500\n",
              "max           267.760000"
            ]
          },
          "metadata": {
            "tags": []
          },
          "execution_count": 16
        }
      ]
    },
    {
      "cell_type": "code",
      "metadata": {
        "colab": {
          "base_uri": "https://localhost:8080/",
          "height": 421
        },
        "id": "4-ISBb_R2_8L",
        "outputId": "061a1b94-a5ae-46c4-97f9-02438720f26c"
      },
      "source": [
        "# Box plot to check distribution of average glucose level in non-stroke patients (0) vs. stroke patients (1)\n",
        "plt.figure(figsize = (5,6))\n",
        "sns.boxplot(y=\"avg_glucose_level\", x=\"stroke\", data = df_filtered)\n",
        "plt.xlabel('Stroke')\n",
        "plt.ylabel('')\n",
        "plt.title('Average Glucose Level')"
      ],
      "execution_count": null,
      "outputs": [
        {
          "output_type": "execute_result",
          "data": {
            "text/plain": [
              "Text(0.5, 1.0, 'Average Glucose Level')"
            ]
          },
          "metadata": {
            "tags": []
          },
          "execution_count": 17
        },
        {
          "output_type": "display_data",
          "data": {
            "image/png": "[encoded data removed]",
            "text/plain": [
              "<Figure size 360x432 with 1 Axes>"
            ]
          },
          "metadata": {
            "tags": [],
            "needs_background": "light"
          }
        }
      ]
    },
    {
      "cell_type": "markdown",
      "metadata": {
        "id": "rUaSPp5mKnVk"
      },
      "source": [
        "Both box plots have a positive skew, while non-stroke patients have a stronger skew with many outliers. Stroke patients have a higher median and"
      ]
    },
    {
      "cell_type": "markdown",
      "metadata": {
        "id": "Cwc-_gbdZVKt"
      },
      "source": [
        "**Average glucose level t-test:**\n",
        "\n",
        "H₀: µ₁ - µ₂ = 0\n",
        "\n",
        "Hₐ: µ₁ - µ₂ ≠ 0\n",
        "\n",
        "*The null hypothesis is that there is no significant difference in average glucose level between stroke vs. non-stroke patients.*\n",
        "\n",
        "\n"
      ]
    },
    {
      "cell_type": "code",
      "metadata": {
        "colab": {
          "base_uri": "https://localhost:8080/"
        },
        "id": "TEW972PilVuU",
        "outputId": "6a9b0435-4e4d-4b69-a2d9-9201fd692c91"
      },
      "source": [
        "# Glucose t-test \n",
        "stats.ttest_ind(non_stroke_patients['avg_glucose_level'], stroke_patients['avg_glucose_level'])"
      ],
      "execution_count": null,
      "outputs": [
        {
          "output_type": "execute_result",
          "data": {
            "text/plain": [
              "Ttest_indResult(statistic=-9.827770450292483, pvalue=1.3799691107259876e-22)"
            ]
          },
          "metadata": {
            "tags": []
          },
          "execution_count": 18
        }
      ]
    },
    {
      "cell_type": "markdown",
      "metadata": {
        "id": "5duNo8HVuJRZ"
      },
      "source": [
        "*Reject the null hypothesis that there is no significant difference in average glucose level between stroke patients and non-stroke patients. The difference is significant at a p-value < .005.*"
      ]
    },
    {
      "cell_type": "code",
      "metadata": {
        "colab": {
          "base_uri": "https://localhost:8080/",
          "height": 52
        },
        "id": "j1-BB_L3z5e7",
        "outputId": "97b3f859-e92d-4641-933d-368572f8626a"
      },
      "source": [
        "# Glucose effect size\n",
        "get_95_ci(non_stroke_patients['avg_glucose_level'],stroke_patients['avg_glucose_level'])"
      ],
      "execution_count": null,
      "outputs": [
        {
          "output_type": "execute_result",
          "data": {
            "application/vnd.google.colaboratory.intrinsic+json": {
              "type": "string"
            },
            "text/plain": [
              "'The difference in means at the 95% confidence interval (two-tail) is between 22.01053673099891 and 39.124766048193194.'"
            ]
          },
          "metadata": {
            "tags": []
          },
          "execution_count": 19
        }
      ]
    },
    {
      "cell_type": "code",
      "metadata": {
        "colab": {
          "base_uri": "https://localhost:8080/"
        },
        "id": "xLo1garrHKJv",
        "outputId": "a8ff637b-fd3f-4e26-d4c2-856853eaeced"
      },
      "source": [
        "# Indicate means for bar chart heights\n",
        "non_stroke_glucose_mean = non_stroke_patients[['avg_glucose_level']].mean()\n",
        "print(non_stroke_glucose_mean)\n",
        "\n",
        "stroke_glucose_mean = stroke_patients[['avg_glucose_level']].mean()\n",
        "print(stroke_glucose_mean)"
      ],
      "execution_count": null,
      "outputs": [
        {
          "output_type": "stream",
          "text": [
            "avg_glucose_level    104.003736\n",
            "dtype: float64\n",
            "avg_glucose_level    134.571388\n",
            "dtype: float64\n"
          ],
          "name": "stdout"
        }
      ]
    },
    {
      "cell_type": "markdown",
      "metadata": {
        "id": "UbW2i6FhCFc1"
      },
      "source": [
        "# BMI Analysis"
      ]
    },
    {
      "cell_type": "code",
      "metadata": {
        "id": "uMAc7J6C2MWN"
      },
      "source": [
        "# Check distribution of BMI\n",
        "plt.figure(figsize = (11,5))\n",
        "ax = sns.distplot(df_filtered['bmi'])\n",
        "plt.xlabel('')\n",
        "plt.ylabel('')\n",
        "plt.title('Body Mass Index (BMI)')"
      ],
      "execution_count": null,
      "outputs": []
    },
    {
      "cell_type": "markdown",
      "metadata": {
        "id": "0Dej0lbapNB4"
      },
      "source": [
        "The histogram is normally distributed and skewed right."
      ]
    },
    {
      "cell_type": "code",
      "metadata": {
        "id": "i1Kj8iq8BySJ"
      },
      "source": [
        "# Descriptive statistics for BMI aross all patients\n",
        "df_filtered[['bmi']].describe()"
      ],
      "execution_count": null,
      "outputs": []
    },
    {
      "cell_type": "code",
      "metadata": {
        "id": "GeFmiqC6D0Ih"
      },
      "source": [
        "# Descriptive statistics for BMI in stroke patients\n",
        "stroke_patients[['bmi']].describe()"
      ],
      "execution_count": null,
      "outputs": []
    },
    {
      "cell_type": "code",
      "metadata": {
        "id": "iFfd8L9MDmjQ"
      },
      "source": [
        "# Descriptive statistics for BMI in non-stroke patients\n",
        "non_stroke_patients[['bmi']].describe()"
      ],
      "execution_count": null,
      "outputs": []
    },
    {
      "cell_type": "code",
      "metadata": {
        "id": "VerX1i7r5pGs"
      },
      "source": [
        "# Box plot to check distribution of BMI in non-stroke patients (0) vs. stroke patients (1)\n",
        "plt.figure(figsize = (5,6))\n",
        "sns.boxplot(y=\"bmi\", x=\"stroke\", data = df_filtered)\n",
        "plt.xlabel('Stroke')\n",
        "plt.ylabel('')\n",
        "plt.title('Body Mass Index (BMI)')"
      ],
      "execution_count": null,
      "outputs": []
    },
    {
      "cell_type": "markdown",
      "metadata": {
        "id": "3i_FyC8FlfTK"
      },
      "source": [
        "Both box plots have a positive skew, while non-stroke patients have a stronger skew. Despite this, stroke patients appear to have higher BMI means than non-stroke patients."
      ]
    },
    {
      "cell_type": "markdown",
      "metadata": {
        "id": "mrft89VfP6bQ"
      },
      "source": [
        "**BMI t-test:**\n",
        "\n",
        "H₀: µ₁ - µ₂ = 0\n",
        "\n",
        "Hₐ: µ₁ - µ₂ ≠ 0\n",
        "\n",
        "*The null hypothesis is that there is no significant difference in BMI between stroke vs. non-stroke patients.*"
      ]
    },
    {
      "cell_type": "code",
      "metadata": {
        "id": "cVNQr2nsoa30"
      },
      "source": [
        "# BMI t-test\n",
        "stats.ttest_ind(non_stroke_patients['bmi'], stroke_patients['bmi'])"
      ],
      "execution_count": null,
      "outputs": []
    },
    {
      "cell_type": "markdown",
      "metadata": {
        "id": "Ssjp2TTDxy_e"
      },
      "source": [
        "*Reject the null hypothesis that there is no significant difference in BMI between stroke patients and non-stroke patients. The difference is significant at a p-value < .005.*"
      ]
    },
    {
      "cell_type": "code",
      "metadata": {
        "id": "Mt05ZElFz8Co"
      },
      "source": [
        "# BMI effect size\n",
        "get_95_ci(non_stroke_patients['bmi'],stroke_patients['bmi'])"
      ],
      "execution_count": null,
      "outputs": []
    },
    {
      "cell_type": "markdown",
      "metadata": {
        "id": "FWBRIjEnF0nt"
      },
      "source": [
        "# Conclusion\n",
        "The results of this analysis show that there is a statistically significant difference in glucose level or body mass index between patients who have had stroke vs. patients who have not had stroke.\n",
        "\n",
        "On average, stroke patients tend to have higher average glucose levels and BMI. These are health factors that healthcare professionals should closely monitor in patients in order to detect individuals at risk for stroke and provide preventative healthcare optimized for minimizing that risk."
      ]
    }
  ]
}